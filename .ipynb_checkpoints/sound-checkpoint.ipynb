{
 "cells": [
  {
   "cell_type": "code",
   "execution_count": 1,
   "id": "b1b05c74-374d-459e-98a4-306342aa8459",
   "metadata": {},
   "outputs": [
    {
     "name": "stdout",
     "output_type": "stream",
     "text": [
      "Collecting sounddevice\n",
      "  Downloading sounddevice-0.5.2-py3-none-any.whl.metadata (1.6 kB)\n",
      "Requirement already satisfied: CFFI>=1.0 in ./lib/python3.12/site-packages (from sounddevice) (1.17.1)\n",
      "Requirement already satisfied: pycparser in ./lib/python3.12/site-packages (from CFFI>=1.0->sounddevice) (2.22)\n",
      "Downloading sounddevice-0.5.2-py3-none-any.whl (32 kB)\n",
      "Installing collected packages: sounddevice\n",
      "Successfully installed sounddevice-0.5.2\n"
     ]
    }
   ],
   "source": [
    "!python -m pip install sounddevice"
   ]
  },
  {
   "cell_type": "code",
   "execution_count": 3,
   "id": "4f28d2d7-afba-4416-8be8-2f302e5cedec",
   "metadata": {},
   "outputs": [
    {
     "name": "stdout",
     "output_type": "stream",
     "text": [
      "Requirement already satisfied: numpy in ./lib/python3.12/site-packages (2.3.2)\n"
     ]
    }
   ],
   "source": [
    "!pip install numpy"
   ]
  },
  {
   "cell_type": "code",
   "execution_count": 4,
   "id": "cef51514-956b-404d-bf5b-55c3e3cf2561",
   "metadata": {},
   "outputs": [],
   "source": [
    "import os "
   ]
  },
  {
   "cell_type": "code",
   "execution_count": 6,
   "id": "18ee0fcf-ae06-46a7-880c-94ff42e29124",
   "metadata": {},
   "outputs": [
    {
     "name": "stdout",
     "output_type": "stream",
     "text": [
      "({'name': 'ALSA', 'devices': [0, 1, 2, 3, 4, 5, 6, 7, 8, 9, 10], 'default_input_device': 10, 'default_output_device': 10}, {'name': 'OSS', 'devices': [], 'default_input_device': -1, 'default_output_device': -1})\n"
     ]
    }
   ],
   "source": [
    "\n",
    "# Set environment variable before importing sounddevice. Value is not important.\n",
    "os.environ[\"SD_ENABLE_ASIO\"] = \"1\"\n",
    "\n",
    "import sounddevice as sd\n",
    "\n",
    "print(sd.query_hostapis())"
   ]
  },
  {
   "cell_type": "code",
   "execution_count": 11,
   "id": "7f8cb85f-75f9-468e-8bcc-b7c3bdcc9cfa",
   "metadata": {},
   "outputs": [],
   "source": [
    "import numpy as np\n",
    "import time"
   ]
  },
  {
   "cell_type": "code",
   "execution_count": 12,
   "id": "7833bce1-5071-4d6a-bc6a-fa9d76e8bded",
   "metadata": {},
   "outputs": [],
   "source": [
    "fs = 44100\n",
    "duration = 2"
   ]
  },
  {
   "cell_type": "code",
   "execution_count": 13,
   "id": "6e43a435-601b-443f-a75c-df69b173a68c",
   "metadata": {},
   "outputs": [],
   "source": [
    "def get_db_level(data):\n",
    "    rms = np.sqrt(np.mean(data**2))\n",
    "    db = 20 * np.log10(rms + 1e-6) \n",
    "    return db"
   ]
  },
  {
   "cell_type": "code",
   "execution_count": null,
   "id": "279aa16f-e2a6-4beb-937f-790c83424fbb",
   "metadata": {},
   "outputs": [],
   "source": [
    "try:\n",
    "  while True:  \n",
    "    my_rec = my_rec = sd.rec(int(duration*fs),samplerate=fs,channels=2, dtype='float64')\n",
    "    sd.wait()\n",
    "    db_level = get_db_level(my_rec)\n",
    "\n",
    "    if(db_level>80):\n",
    "        print(f\"Current Noise Level: {db_level:.2f} dB\", end=\" -> \")\n",
    "        if db_level > THRESHOLD:\n",
    "            print(\"🚨 RED LIGHT ON\")\n",
    "        else:\n",
    "            print(\"✅ RED LIGHT OFF\") \n",
    "        sys.stdout.flush()\n",
    "        time.sleep(0.5) \n",
    "        \n",
    "except KeyboardInterrupt:\n",
    "    print(\"\\nStopped monitoring.\")\n",
    "    \n"
   ]
  },
  {
   "cell_type": "code",
   "execution_count": null,
   "id": "5a62203a-d4ec-433c-a813-3bafb0ac703f",
   "metadata": {},
   "outputs": [],
   "source": []
  }
 ],
 "metadata": {
  "kernelspec": {
   "display_name": "Python 3 (ipykernel)",
   "language": "python",
   "name": "python3"
  },
  "language_info": {
   "codemirror_mode": {
    "name": "ipython",
    "version": 3
   },
   "file_extension": ".py",
   "mimetype": "text/x-python",
   "name": "python",
   "nbconvert_exporter": "python",
   "pygments_lexer": "ipython3",
   "version": "3.12.3"
  }
 },
 "nbformat": 4,
 "nbformat_minor": 5
}
